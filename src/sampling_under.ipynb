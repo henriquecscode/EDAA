{
 "cells": [
  {
   "cell_type": "code",
   "execution_count": 1,
   "metadata": {},
   "outputs": [],
   "source": [
    "import pandas as pd\n",
    "import numpy as np\n",
    "from imblearn.over_sampling import SMOTE"
   ]
  },
  {
   "cell_type": "code",
   "execution_count": 4,
   "metadata": {},
   "outputs": [],
   "source": [
    "DATA_DIR = '../data/'\n",
    "\n",
    "ORIG = \"OriginAirportID\"\n",
    "DEST = \"DestAirportID\""
   ]
  },
  {
   "cell_type": "code",
   "execution_count": 5,
   "metadata": {},
   "outputs": [],
   "source": [
    "airports_df = pd.read_csv(f\"{DATA_DIR}/airports_actually_used.csv\")\n",
    "flights_df = pd.read_csv(f\"{DATA_DIR}/flights.csv\")\n",
    "\n",
    "number_airports = len(airports_df)\n",
    "number_flights = len(flights_df)\n",
    "\n",
    "clique_size = number_airports * (number_airports - 1) / 2\n",
    "# Connection density gives us the number of flights between any two airports on average\n",
    "connection_density = number_flights / clique_size\n",
    "# We want to sample flights such that the connection density is the same\n"
   ]
  },
  {
   "cell_type": "code",
   "execution_count": 9,
   "metadata": {},
   "outputs": [
    {
     "name": "stdout",
     "output_type": "stream",
     "text": [
      "Number of airports: 70\n",
      "Number of flights: 2702218\n",
      "Number of possible connections: 2415.0\n",
      "Connection density: 1118.9308488612837\n"
     ]
    }
   ],
   "source": [
    "\n",
    "print(f\"Number of airports: {number_airports}\")\n",
    "print(f\"Number of flights: {number_flights}\")\n",
    "print(f\"Number of possible connections: {clique_size}\")\n",
    "print(f\"Connection density: {connection_density}\")"
   ]
  },
  {
   "attachments": {},
   "cell_type": "markdown",
   "metadata": {},
   "source": [
    "# DOWN SIZE"
   ]
  },
  {
   "cell_type": "code",
   "execution_count": 7,
   "metadata": {},
   "outputs": [],
   "source": [
    "SAMPLE_SIZE = 7\n",
    "airports_df_base = airports_df.sample(7)\n",
    "airports_ids = set(airports_df_base['airport_id'].tolist())\n"
   ]
  },
  {
   "cell_type": "code",
   "execution_count": 8,
   "metadata": {},
   "outputs": [
    {
     "data": {
      "text/plain": [
       "{10140, 11193, 11259, 12892, 13303, 14122, 14307}"
      ]
     },
     "execution_count": 8,
     "metadata": {},
     "output_type": "execute_result"
    }
   ],
   "source": [
    "airports_ids"
   ]
  },
  {
   "cell_type": "code",
   "execution_count": 11,
   "metadata": {},
   "outputs": [],
   "source": [
    "flights_df_base = flights_df[flights_df[ORIG].isin(airports_ids) & flights_df[DEST].isin(airports_ids)]\n"
   ]
  },
  {
   "cell_type": "code",
   "execution_count": 12,
   "metadata": {},
   "outputs": [],
   "source": [
    "\n",
    "airports_df_base.to_csv(f\"{DATA_DIR}/airports_base.csv\", index=False)\n",
    "flights_df_base.to_csv(f\"{DATA_DIR}/flights_base.csv\", index=False)"
   ]
  }
 ],
 "metadata": {
  "kernelspec": {
   "display_name": "Python 3",
   "language": "python",
   "name": "python3"
  },
  "language_info": {
   "codemirror_mode": {
    "name": "ipython",
    "version": 3
   },
   "file_extension": ".py",
   "mimetype": "text/x-python",
   "name": "python",
   "nbconvert_exporter": "python",
   "pygments_lexer": "ipython3",
   "version": "3.10.8"
  },
  "orig_nbformat": 4
 },
 "nbformat": 4,
 "nbformat_minor": 2
}
