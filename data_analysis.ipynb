{
 "cells": [
  {
   "cell_type": "code",
   "execution_count": 15,
   "metadata": {},
   "outputs": [],
   "source": [
    "import pandas as pd"
   ]
  },
  {
   "cell_type": "code",
   "execution_count": 16,
   "metadata": {},
   "outputs": [],
   "source": [
    "df = pd.read_csv('data/flights.csv')\n",
    "df1 = pd.read_csv('data/airports.csv')\n",
    "df2 = pd.read_csv('data/airports_dif_src.csv')\n",
    "df3= pd.read_csv('data/airports_actually_used.csv')"
   ]
  },
  {
   "cell_type": "code",
   "execution_count": 5,
   "metadata": {},
   "outputs": [
    {
     "data": {
      "text/plain": [
       "array([19, 20, 18, 16, 17, 21, 22, 23, 24, 25, 26, 28, 29, 30,  2,  3,  4,\n",
       "        5,  7,  8,  9, 10, 11, 12, 14, 15,  1,  6, 13, 27, 31],\n",
       "      dtype=int64)"
      ]
     },
     "execution_count": 5,
     "metadata": {},
     "output_type": "execute_result"
    }
   ],
   "source": [
    "df['DayofMonth'].unique()"
   ]
  },
  {
   "cell_type": "code",
   "execution_count": 7,
   "metadata": {},
   "outputs": [
    {
     "data": {
      "text/plain": [
       "16    91483\n",
       "9     91412\n",
       "23    91254\n",
       "30    90544\n",
       "3     90172\n",
       "10    90025\n",
       "2     89760\n",
       "17    89463\n",
       "15    89357\n",
       "22    89275\n",
       "29    89251\n",
       "24    89167\n",
       "19    89054\n",
       "8     89019\n",
       "18    88904\n",
       "12    88857\n",
       "11    88606\n",
       "25    88174\n",
       "7     88011\n",
       "21    87706\n",
       "14    87704\n",
       "6     87702\n",
       "28    87450\n",
       "13    87113\n",
       "20    86780\n",
       "5     86426\n",
       "26    86364\n",
       "27    85814\n",
       "4     84758\n",
       "1     84636\n",
       "31    47977\n",
       "Name: DayofMonth, dtype: int64"
      ]
     },
     "execution_count": 7,
     "metadata": {},
     "output_type": "execute_result"
    }
   ],
   "source": [
    "df['DayofMonth'].value_counts()"
   ]
  },
  {
   "cell_type": "code",
   "execution_count": 17,
   "metadata": {},
   "outputs": [
    {
     "name": "stdout",
     "output_type": "stream",
     "text": [
      "List of unique carriers:\n",
      "['9E', 'AA', 'AS', 'B6', 'DL', 'EV', 'F9', 'FL', 'HA', 'MQ', 'OO', 'UA', 'US', 'VX', 'WN', 'YV'] \n",
      "\n",
      "List ID origin ariport\n",
      "[10140, 10299, 10397, 10423, 10529, 10693, 10721, 10792, 10800, 10821, 11042, 11057, 11066, 11193, 11259, 11278, 11292, 11298, 11433, 11618, 11697, 12173, 12191, 12264, 12266, 12339, 12451, 12478, 12889, 12892, 12953, 12954, 13198, 13204, 13232, 13244, 13303, 13342, 13487, 13495, 13796, 13830, 13851, 13871, 13891, 13930, 13931, 14027, 14057, 14100, 14107, 14122, 14307, 14492, 14524, 14570, 14635, 14679, 14683, 14730, 14747, 14771, 14831, 14843, 14869, 14893, 14908, 15016, 15304, 15376] \n",
      "\n",
      "List ID destination ariport\n",
      "[10140, 10299, 10397, 10423, 10529, 10693, 10721, 10792, 10800, 10821, 11042, 11057, 11066, 11193, 11259, 11278, 11292, 11298, 11433, 11618, 11697, 12173, 12191, 12264, 12266, 12339, 12451, 12478, 12889, 12892, 12953, 12954, 13198, 13204, 13232, 13244, 13303, 13342, 13487, 13495, 13796, 13830, 13851, 13871, 13891, 13930, 13931, 14027, 14057, 14100, 14107, 14122, 14307, 14492, 14524, 14570, 14635, 14679, 14683, 14730, 14747, 14771, 14831, 14843, 14869, 14893, 14908, 15016, 15304, 15376] \n",
      "\n"
     ]
    }
   ],
   "source": [
    "print(\"List of unique carriers:\")\n",
    "print(sorted(df['Carrier'].unique()), \"\\n\")\n",
    "print(\"List ID origin ariport\")\n",
    "origin_airport = df['OriginAirportID'].unique()\n",
    "print(sorted(origin_airport), \"\\n\")\n",
    "print(\"List ID destination ariport\")\n",
    "destination_airport = df['DestAirportID'].unique()\n",
    "print(sorted(destination_airport), \"\\n\")\n",
    "# origin and destination airport list are the same"
   ]
  },
  {
   "cell_type": "code",
   "execution_count": 20,
   "metadata": {},
   "outputs": [
    {
     "data": {
      "text/plain": [
       "Index(['airport_id', 'city', 'state', 'name'], dtype='object')"
      ]
     },
     "execution_count": 20,
     "metadata": {},
     "output_type": "execute_result"
    }
   ],
   "source": [
    "df1.columns"
   ]
  },
  {
   "cell_type": "code",
   "execution_count": 24,
   "metadata": {},
   "outputs": [
    {
     "data": {
      "text/plain": [
       "165    Detroit Metro Wayne County\n",
       "Name: name, dtype: object"
      ]
     },
     "execution_count": 24,
     "metadata": {},
     "output_type": "execute_result"
    }
   ],
   "source": [
    "df1.loc[df1['airport_id'] == df['OriginAirportID'][0]]['name']\n"
   ]
  },
  {
   "cell_type": "code",
   "execution_count": 28,
   "metadata": {},
   "outputs": [
    {
     "data": {
      "text/plain": [
       "DayofMonth            19\n",
       "DayOfWeek              5\n",
       "Carrier               DL\n",
       "OriginAirportID    11433\n",
       "DestAirportID      13303\n",
       "DepDelay              -3\n",
       "ArrDelay               1\n",
       "Name: 0, dtype: object"
      ]
     },
     "execution_count": 28,
     "metadata": {},
     "output_type": "execute_result"
    }
   ],
   "source": [
    "df.iloc[0]"
   ]
  },
  {
   "cell_type": "code",
   "execution_count": 5,
   "metadata": {},
   "outputs": [],
   "source": [
    "def map_name(airport_id):\n",
    "    return df1.loc[df1['airport_id'] == airport_id]['name'].values[0]"
   ]
  },
  {
   "cell_type": "code",
   "execution_count": 14,
   "metadata": {},
   "outputs": [
    {
     "data": {
      "text/plain": [
       "['Detroit Metro Wayne County',\n",
       " 'Salt Lake City International',\n",
       " 'Portland International',\n",
       " 'Lambert-St. Louis International',\n",
       " 'Cincinnati/Northern Kentucky International',\n",
       " 'Hartsfield-Jackson Atlanta International',\n",
       " 'Ronald Reagan Washington National',\n",
       " 'Phoenix Sky Harbor International',\n",
       " 'Dallas/Fort Worth International',\n",
       " 'Jacksonville International',\n",
       " 'LaGuardia',\n",
       " 'Orlando International',\n",
       " 'Minneapolis-St Paul International',\n",
       " 'McCarran International',\n",
       " 'Palm Beach International',\n",
       " 'Memphis International',\n",
       " 'Seattle/Tacoma International',\n",
       " 'Austin - Bergstrom International',\n",
       " 'Denver International',\n",
       " 'Los Angeles International',\n",
       " 'Kansas City International',\n",
       " 'Charlotte Douglas International',\n",
       " 'Philadelphia International',\n",
       " 'John F. Kennedy International',\n",
       " 'Fort Lauderdale-Hollywood International',\n",
       " 'Indianapolis International',\n",
       " 'George Bush Intercontinental/Houston',\n",
       " 'Tampa International',\n",
       " 'Southwest Florida International',\n",
       " \"Chicago O'Hare International\",\n",
       " 'San Diego International',\n",
       " 'Logan International',\n",
       " 'Baltimore/Washington International Thurgood Marshall',\n",
       " 'Port Columbus International',\n",
       " 'Louis Armstrong New Orleans International',\n",
       " 'Albuquerque International Sunport',\n",
       " 'Buffalo Niagara International',\n",
       " 'Raleigh-Durham International',\n",
       " 'Newark Liberty International',\n",
       " 'San Francisco International',\n",
       " 'Honolulu International',\n",
       " 'John Wayne Airport-Orange County',\n",
       " 'General Mitchell International',\n",
       " 'Louisville International-Standiford Field',\n",
       " 'Pittsburgh International',\n",
       " 'Nashville International',\n",
       " 'Miami International',\n",
       " 'Sacramento International',\n",
       " 'Richmond International',\n",
       " 'Luis Munoz Marin International',\n",
       " 'Tucson International',\n",
       " 'Chicago Midway International',\n",
       " 'San Antonio International',\n",
       " 'Eppley Airfield',\n",
       " 'Cleveland-Hopkins International',\n",
       " 'Reno/Tahoe International',\n",
       " 'Washington Dulles International',\n",
       " 'Kahului Airport',\n",
       " 'Norfolk International',\n",
       " 'Ted Stevens Anchorage International',\n",
       " 'Theodore Francis Green State',\n",
       " 'Bradley International',\n",
       " 'Norman Y. Mineta San Jose International',\n",
       " 'William P Hobby',\n",
       " 'Metropolitan Oakland International',\n",
       " 'Will Rogers World',\n",
       " 'Long Beach Airport',\n",
       " 'Dallas Love Field',\n",
       " 'Bob Hope',\n",
       " 'Ontario International']"
      ]
     },
     "execution_count": 14,
     "metadata": {},
     "output_type": "execute_result"
    }
   ],
   "source": [
    "origin_airport_name = list(map(map_name, origin_airport))\n",
    "origin_airport_name"
   ]
  },
  {
   "cell_type": "code",
   "execution_count": 36,
   "metadata": {},
   "outputs": [
    {
     "data": {
      "text/html": [
       "<div>\n",
       "<style scoped>\n",
       "    .dataframe tbody tr th:only-of-type {\n",
       "        vertical-align: middle;\n",
       "    }\n",
       "\n",
       "    .dataframe tbody tr th {\n",
       "        vertical-align: top;\n",
       "    }\n",
       "\n",
       "    .dataframe thead th {\n",
       "        text-align: right;\n",
       "    }\n",
       "</style>\n",
       "<table border=\"1\" class=\"dataframe\">\n",
       "  <thead>\n",
       "    <tr style=\"text-align: right;\">\n",
       "      <th></th>\n",
       "      <th>OriginAirportID</th>\n",
       "      <th>DestAirportID</th>\n",
       "      <th>count</th>\n",
       "    </tr>\n",
       "  </thead>\n",
       "  <tbody>\n",
       "    <tr>\n",
       "      <th>0</th>\n",
       "      <td>10140</td>\n",
       "      <td>10397</td>\n",
       "      <td>565</td>\n",
       "    </tr>\n",
       "    <tr>\n",
       "      <th>1</th>\n",
       "      <td>10140</td>\n",
       "      <td>10821</td>\n",
       "      <td>406</td>\n",
       "    </tr>\n",
       "    <tr>\n",
       "      <th>2</th>\n",
       "      <td>10140</td>\n",
       "      <td>11259</td>\n",
       "      <td>1555</td>\n",
       "    </tr>\n",
       "    <tr>\n",
       "      <th>3</th>\n",
       "      <td>10140</td>\n",
       "      <td>11292</td>\n",
       "      <td>1519</td>\n",
       "    </tr>\n",
       "    <tr>\n",
       "      <th>4</th>\n",
       "      <td>10140</td>\n",
       "      <td>11298</td>\n",
       "      <td>1610</td>\n",
       "    </tr>\n",
       "    <tr>\n",
       "      <th>...</th>\n",
       "      <td>...</td>\n",
       "      <td>...</td>\n",
       "      <td>...</td>\n",
       "    </tr>\n",
       "    <tr>\n",
       "      <th>2508</th>\n",
       "      <td>15376</td>\n",
       "      <td>14107</td>\n",
       "      <td>2035</td>\n",
       "    </tr>\n",
       "    <tr>\n",
       "      <th>2509</th>\n",
       "      <td>15376</td>\n",
       "      <td>14679</td>\n",
       "      <td>595</td>\n",
       "    </tr>\n",
       "    <tr>\n",
       "      <th>2510</th>\n",
       "      <td>15376</td>\n",
       "      <td>14747</td>\n",
       "      <td>213</td>\n",
       "    </tr>\n",
       "    <tr>\n",
       "      <th>2511</th>\n",
       "      <td>15376</td>\n",
       "      <td>14771</td>\n",
       "      <td>250</td>\n",
       "    </tr>\n",
       "    <tr>\n",
       "      <th>2512</th>\n",
       "      <td>15376</td>\n",
       "      <td>14869</td>\n",
       "      <td>609</td>\n",
       "    </tr>\n",
       "  </tbody>\n",
       "</table>\n",
       "<p>2513 rows × 3 columns</p>\n",
       "</div>"
      ],
      "text/plain": [
       "      OriginAirportID  DestAirportID  count\n",
       "0               10140          10397    565\n",
       "1               10140          10821    406\n",
       "2               10140          11259   1555\n",
       "3               10140          11292   1519\n",
       "4               10140          11298   1610\n",
       "...               ...            ...    ...\n",
       "2508            15376          14107   2035\n",
       "2509            15376          14679    595\n",
       "2510            15376          14747    213\n",
       "2511            15376          14771    250\n",
       "2512            15376          14869    609\n",
       "\n",
       "[2513 rows x 3 columns]"
      ]
     },
     "execution_count": 36,
     "metadata": {},
     "output_type": "execute_result"
    }
   ],
   "source": [
    "df.groupby(['OriginAirportID', 'DestAirportID']).size().reset_index().rename(columns={0:'count'}) "
   ]
  },
  {
   "cell_type": "code",
   "execution_count": 27,
   "metadata": {},
   "outputs": [
    {
     "data": {
      "text/html": [
       "<div>\n",
       "<style scoped>\n",
       "    .dataframe tbody tr th:only-of-type {\n",
       "        vertical-align: middle;\n",
       "    }\n",
       "\n",
       "    .dataframe tbody tr th {\n",
       "        vertical-align: top;\n",
       "    }\n",
       "\n",
       "    .dataframe thead th {\n",
       "        text-align: right;\n",
       "    }\n",
       "</style>\n",
       "<table border=\"1\" class=\"dataframe\">\n",
       "  <thead>\n",
       "    <tr style=\"text-align: right;\">\n",
       "      <th></th>\n",
       "      <th>OriginAirportID</th>\n",
       "      <th>DestAirportID</th>\n",
       "      <th>count</th>\n",
       "    </tr>\n",
       "  </thead>\n",
       "  <tbody>\n",
       "    <tr>\n",
       "      <th>2251</th>\n",
       "      <td>14771</td>\n",
       "      <td>12892</td>\n",
       "      <td>9643</td>\n",
       "    </tr>\n",
       "    <tr>\n",
       "      <th>1212</th>\n",
       "      <td>12892</td>\n",
       "      <td>14771</td>\n",
       "      <td>9583</td>\n",
       "    </tr>\n",
       "    <tr>\n",
       "      <th>1189</th>\n",
       "      <td>12892</td>\n",
       "      <td>12889</td>\n",
       "      <td>6864</td>\n",
       "    </tr>\n",
       "    <tr>\n",
       "      <th>1132</th>\n",
       "      <td>12889</td>\n",
       "      <td>12892</td>\n",
       "      <td>6835</td>\n",
       "    </tr>\n",
       "    <tr>\n",
       "      <th>1077</th>\n",
       "      <td>12478</td>\n",
       "      <td>12892</td>\n",
       "      <td>6643</td>\n",
       "    </tr>\n",
       "    <tr>\n",
       "      <th>...</th>\n",
       "      <td>...</td>\n",
       "      <td>...</td>\n",
       "      <td>...</td>\n",
       "    </tr>\n",
       "    <tr>\n",
       "      <th>1977</th>\n",
       "      <td>14122</td>\n",
       "      <td>14524</td>\n",
       "      <td>1</td>\n",
       "    </tr>\n",
       "    <tr>\n",
       "      <th>1279</th>\n",
       "      <td>13198</td>\n",
       "      <td>11278</td>\n",
       "      <td>1</td>\n",
       "    </tr>\n",
       "    <tr>\n",
       "      <th>758</th>\n",
       "      <td>11618</td>\n",
       "      <td>12953</td>\n",
       "      <td>1</td>\n",
       "    </tr>\n",
       "    <tr>\n",
       "      <th>773</th>\n",
       "      <td>11618</td>\n",
       "      <td>14100</td>\n",
       "      <td>1</td>\n",
       "    </tr>\n",
       "    <tr>\n",
       "      <th>1976</th>\n",
       "      <td>14122</td>\n",
       "      <td>14492</td>\n",
       "      <td>1</td>\n",
       "    </tr>\n",
       "  </tbody>\n",
       "</table>\n",
       "<p>2513 rows × 3 columns</p>\n",
       "</div>"
      ],
      "text/plain": [
       "      OriginAirportID  DestAirportID  count\n",
       "2251            14771          12892   9643\n",
       "1212            12892          14771   9583\n",
       "1189            12892          12889   6864\n",
       "1132            12889          12892   6835\n",
       "1077            12478          12892   6643\n",
       "...               ...            ...    ...\n",
       "1977            14122          14524      1\n",
       "1279            13198          11278      1\n",
       "758             11618          12953      1\n",
       "773             11618          14100      1\n",
       "1976            14122          14492      1\n",
       "\n",
       "[2513 rows x 3 columns]"
      ]
     },
     "execution_count": 27,
     "metadata": {},
     "output_type": "execute_result"
    }
   ],
   "source": []
  },
  {
   "cell_type": "code",
   "execution_count": 28,
   "metadata": {},
   "outputs": [],
   "source": [
    "def map_lat(airport_id):\n",
    "    return df3.loc[df3['airport_id'] == airport_id]['lat'].values[0]"
   ]
  },
  {
   "cell_type": "code",
   "execution_count": 34,
   "metadata": {},
   "outputs": [],
   "source": [
    "def map_lon(airport_id):\n",
    "    return df3.loc[df3['airport_id'] == airport_id]['lng'].values[0]"
   ]
  },
  {
   "cell_type": "code",
   "execution_count": 35,
   "metadata": {},
   "outputs": [],
   "source": [
    "og_lat = map_lat(df.iloc[0]['OriginAirportID'])\n",
    "final_lat = map_lat(df.iloc[0]['DestAirportID'])\n",
    "og_lon = map_lon(df.iloc[0]['OriginAirportID'])\n",
    "final_lon = map_lon(df.iloc[0]['DestAirportID'])"
   ]
  },
  {
   "cell_type": "code",
   "execution_count": 36,
   "metadata": {},
   "outputs": [
    {
     "data": {
      "text/plain": [
       "1844.8693002198113"
      ]
     },
     "execution_count": 36,
     "metadata": {},
     "output_type": "execute_result"
    }
   ],
   "source": [
    "#Calculate distances\n",
    "from geopy.distance import geodesic\n",
    "geodesic((og_lat, og_lon), (final_lat, final_lon)).km #checked and it works :)"
   ]
  },
  {
   "cell_type": "code",
   "execution_count": 42,
   "metadata": {},
   "outputs": [
    {
     "data": {
      "text/plain": [
       "2.2917631058631196"
      ]
     },
     "execution_count": 42,
     "metadata": {},
     "output_type": "execute_result"
    }
   ],
   "source": [
    "#An average flight speed for a commercial airliner of 500 mph, which is equivalent to 805 km/hr \n",
    "flight_time = geodesic((og_lat, og_lon), (final_lat, final_lon)).km/805\n",
    "flight_time"
   ]
  }
 ],
 "metadata": {
  "kernelspec": {
   "display_name": "Python 3",
   "language": "python",
   "name": "python3"
  },
  "language_info": {
   "codemirror_mode": {
    "name": "ipython",
    "version": 3
   },
   "file_extension": ".py",
   "mimetype": "text/x-python",
   "name": "python",
   "nbconvert_exporter": "python",
   "pygments_lexer": "ipython3",
   "version": "3.9.13"
  },
  "orig_nbformat": 4
 },
 "nbformat": 4,
 "nbformat_minor": 2
}
